{
 "cells": [
  {
   "cell_type": "markdown",
   "id": "9b067238-de8e-40d2-a68d-618ae3b7e32b",
   "metadata": {},
   "source": [
    "# DIGI405 Texts, Discourses and Data\n",
    "\n",
    "## Word and Document Representations Examples"
   ]
  },
  {
   "cell_type": "markdown",
   "id": "3c63f5ad-0127-4e78-8622-09b6eba7539d",
   "metadata": {},
   "source": [
    "We looked at token frequency as a representation of words in a corpus in week 1. This week we extend this to look at further concepts that build on frequency to create word and document-level representations of texts, including:\n",
    "\n",
    "- Document-term matrices, using word counts\n",
    "- Document-term matrices, using term frequency - inverse document frequency weighting\n",
    "- Word embeddings\n",
    "\n",
    "We will use the a corpus of (probably generated) customer support tickets as an example. This corpus offers a situation where we have many texts (~8000) with often repeating or similar content. We want find tickets that are similar, but also what is distinctive about them, and we'll explore some different ways to represent them to do this."
   ]
  },
  {
   "cell_type": "code",
   "execution_count": 4,
   "id": "8db181ae-23ec-456d-b3da-65c51c303c37",
   "metadata": {},
   "outputs": [],
   "source": [
    "# If needed...\n",
    "#!pip install textblob\n",
    "#!python -m textblob.download_corpora"
   ]
  },
  {
   "cell_type": "code",
   "execution_count": 5,
   "id": "e6c824ce-3892-4181-b930-04cadf8d6f26",
   "metadata": {},
   "outputs": [],
   "source": [
    "from collections import Counter\n",
    "from nltk.corpus import stopwords\n",
    "from tabulate import tabulate\n",
    "from collections import defaultdict\n",
    "import pandas as pd\n",
    "from textblob import TextBlob as tb\n",
    "import pandas as pd"
   ]
  },
  {
   "cell_type": "code",
   "execution_count": 6,
   "id": "bf0f700d-0221-48e7-9528-551af65cf7b1",
   "metadata": {},
   "outputs": [],
   "source": [
    "tickets_df = pd.read_csv('tickets.csv')"
   ]
  },
  {
   "cell_type": "code",
   "execution_count": 7,
   "id": "13d6b043-df9c-452e-ba50-6414231ae840",
   "metadata": {},
   "outputs": [],
   "source": [
    "tickets_corpus = tickets_df['Ticket Description'].to_list()"
   ]
  },
  {
   "cell_type": "code",
   "execution_count": 8,
   "id": "cf8c8044-93d6-4a22-a8c5-7a0119b2b92f",
   "metadata": {},
   "outputs": [
    {
     "name": "stdout",
     "output_type": "stream",
     "text": [
      "I'm having an issue with the {product_purchased}. Please assist.\n",
      "\n",
      "Your billing zip code is: 71701.\n",
      "\n",
      "We appreciate that you have requested a website address.\n",
      "\n",
      "Please double check your email address. I've tried troubleshooting steps mentioned in the user manual, but the issue persists.\n",
      "\n",
      "\n",
      "I'm having an issue with the {product_purchased}. Please assist.\n",
      "\n",
      "If you need to change an existing product.\n",
      "\n",
      "I'm having an issue with the {product_purchased}. Please assist.\n",
      "\n",
      "If The issue I'm facing is intermittent. Sometimes it works fine, but other times it acts up unexpectedly.\n",
      "\n",
      "\n",
      "I'm facing a problem with my {product_purchased}. The {product_purchased} is not turning on. It was working fine until yesterday, but now it doesn't respond.\n",
      "\n",
      "1.8.3 I really I'm using the original charger that came with my {product_purchased}, but it's not charging properly.\n",
      "\n",
      "\n",
      "I'm having an issue with the {product_purchased}. Please assist.\n",
      "\n",
      "If you have a problem you're interested in and I'd love to see this happen, please check out the Feedback. I've already contacted customer support multiple times, but the issue remains unresolved.\n",
      "\n",
      "\n",
      "I'm having an issue with the {product_purchased}. Please assist.\n",
      "\n",
      "\n",
      "Note: The seller is not responsible for any damages arising out of the delivery of the battleground game. Please have the game in good condition and shipped to you I've noticed a sudden decrease in battery life on my {product_purchased}. It used to last much longer.\n",
      "\n",
      "\n"
     ]
    }
   ],
   "source": [
    "for t in tickets_corpus[:5]:\n",
    "    print(t)\n",
    "    print('\\n')"
   ]
  },
  {
   "cell_type": "markdown",
   "id": "1b4373ad-34e7-4478-a650-097563692480",
   "metadata": {},
   "source": [
    "### Document-term matrix"
   ]
  },
  {
   "cell_type": "markdown",
   "id": "43f49bc4-7ad9-40f3-a86b-af91f39d4809",
   "metadata": {},
   "source": [
    "We will use the Sci-kit Learn library to count tokens and produce a matrix, or table, summarising our documents. Each document will be converted to a vector, or list of numbers. Each number in the vector represents a word in our corpus or set of documents. The columns of the resulting matrix will represent words, and the rows will represent documents. If a word is present in a document, a frequency count will show that. If a word is not present in a document, the count will be zero.\n",
    "\n",
    "The documentation for the CountVectorizer is here:\n",
    "https://scikit-learn.org/stable/modules/generated/sklearn.feature_extraction.text.CountVectorizer.html "
   ]
  },
  {
   "cell_type": "code",
   "execution_count": 9,
   "id": "e01a789b-fbb2-4758-a780-d9b4b8d6575f",
   "metadata": {},
   "outputs": [],
   "source": [
    "from sklearn.feature_extraction.text import CountVectorizer"
   ]
  },
  {
   "cell_type": "code",
   "execution_count": 10,
   "id": "52f87421-3df1-440a-9f2c-618816b663a6",
   "metadata": {},
   "outputs": [],
   "source": [
    "vectorizer = CountVectorizer(token_pattern=r'[a-zA-Z]+')"
   ]
  },
  {
   "cell_type": "code",
   "execution_count": 11,
   "id": "e047e93c-2936-4703-9f7b-8b1526dc865c",
   "metadata": {},
   "outputs": [],
   "source": [
    "tickets_dtm = vectorizer.fit_transform(tickets_corpus)"
   ]
  },
  {
   "cell_type": "code",
   "execution_count": 12,
   "id": "75e05f18-5995-4465-992f-d7914c22ec69",
   "metadata": {},
   "outputs": [
    {
     "data": {
      "text/plain": [
       "array(['a', 'aaron', 'ab', ..., 'zombiecobra', 'zombii', 'zoom'],\n",
       "      dtype=object)"
      ]
     },
     "execution_count": 12,
     "metadata": {},
     "output_type": "execute_result"
    }
   ],
   "source": [
    "# print the features, ie the 'bag of words' extracted from the document(s).\n",
    "vectorizer.get_feature_names_out()"
   ]
  },
  {
   "cell_type": "code",
   "execution_count": 13,
   "id": "5c2be081-e349-4318-92d1-7beb8eb0bae8",
   "metadata": {},
   "outputs": [
    {
     "data": {
      "text/plain": [
       "array([[1, 0, 0, ..., 0, 0, 0],\n",
       "       [0, 0, 0, ..., 0, 0, 0],\n",
       "       [1, 0, 0, ..., 0, 0, 0],\n",
       "       ...,\n",
       "       [2, 0, 0, ..., 0, 0, 0],\n",
       "       [2, 0, 0, ..., 0, 0, 0],\n",
       "       [2, 0, 0, ..., 0, 0, 0]])"
      ]
     },
     "execution_count": 13,
     "metadata": {},
     "output_type": "execute_result"
    }
   ],
   "source": [
    "# print the dtm\n",
    "# rows are documents and columns are words\n",
    "# each cell is a token count\n",
    "\n",
    "tickets_dtm.toarray()"
   ]
  },
  {
   "cell_type": "code",
   "execution_count": 14,
   "id": "da389a8a-cc5c-4767-85c0-5e48509bfbcf",
   "metadata": {},
   "outputs": [
    {
     "data": {
      "text/plain": [
       "(8469, 6232)"
      ]
     },
     "execution_count": 14,
     "metadata": {},
     "output_type": "execute_result"
    }
   ],
   "source": [
    "# we can also check the shape attribute\n",
    "\n",
    "tickets_dtm.shape"
   ]
  },
  {
   "cell_type": "code",
   "execution_count": 15,
   "id": "026ae959-f77e-465a-b7c0-1391a9ca7da9",
   "metadata": {},
   "outputs": [],
   "source": [
    "tickets_dtm_df = pd.DataFrame(tickets_dtm.toarray(),\n",
    "                      columns=vectorizer.get_feature_names_out())"
   ]
  },
  {
   "cell_type": "code",
   "execution_count": 16,
   "id": "f25076f5-c4d6-4170-9e89-b4ff6d7cb0c8",
   "metadata": {},
   "outputs": [
    {
     "data": {
      "text/html": [
       "<div>\n",
       "<style scoped>\n",
       "    .dataframe tbody tr th:only-of-type {\n",
       "        vertical-align: middle;\n",
       "    }\n",
       "\n",
       "    .dataframe tbody tr th {\n",
       "        vertical-align: top;\n",
       "    }\n",
       "\n",
       "    .dataframe thead th {\n",
       "        text-align: right;\n",
       "    }\n",
       "</style>\n",
       "<table border=\"1\" class=\"dataframe\">\n",
       "  <thead>\n",
       "    <tr style=\"text-align: right;\">\n",
       "      <th></th>\n",
       "      <th>a</th>\n",
       "      <th>aaron</th>\n",
       "      <th>ab</th>\n",
       "      <th>ability</th>\n",
       "      <th>able</th>\n",
       "      <th>about</th>\n",
       "      <th>aboutumes</th>\n",
       "      <th>above</th>\n",
       "      <th>abroad</th>\n",
       "      <th>absmith</th>\n",
       "      <th>...</th>\n",
       "      <th>zerohits</th>\n",
       "      <th>zg</th>\n",
       "      <th>zilp</th>\n",
       "      <th>zinski</th>\n",
       "      <th>zip</th>\n",
       "      <th>zoe</th>\n",
       "      <th>zoltan</th>\n",
       "      <th>zombiecobra</th>\n",
       "      <th>zombii</th>\n",
       "      <th>zoom</th>\n",
       "    </tr>\n",
       "  </thead>\n",
       "  <tbody>\n",
       "    <tr>\n",
       "      <th>0</th>\n",
       "      <td>1</td>\n",
       "      <td>0</td>\n",
       "      <td>0</td>\n",
       "      <td>0</td>\n",
       "      <td>0</td>\n",
       "      <td>0</td>\n",
       "      <td>0</td>\n",
       "      <td>0</td>\n",
       "      <td>0</td>\n",
       "      <td>0</td>\n",
       "      <td>...</td>\n",
       "      <td>0</td>\n",
       "      <td>0</td>\n",
       "      <td>0</td>\n",
       "      <td>0</td>\n",
       "      <td>1</td>\n",
       "      <td>0</td>\n",
       "      <td>0</td>\n",
       "      <td>0</td>\n",
       "      <td>0</td>\n",
       "      <td>0</td>\n",
       "    </tr>\n",
       "    <tr>\n",
       "      <th>1</th>\n",
       "      <td>0</td>\n",
       "      <td>0</td>\n",
       "      <td>0</td>\n",
       "      <td>0</td>\n",
       "      <td>0</td>\n",
       "      <td>0</td>\n",
       "      <td>0</td>\n",
       "      <td>0</td>\n",
       "      <td>0</td>\n",
       "      <td>0</td>\n",
       "      <td>...</td>\n",
       "      <td>0</td>\n",
       "      <td>0</td>\n",
       "      <td>0</td>\n",
       "      <td>0</td>\n",
       "      <td>0</td>\n",
       "      <td>0</td>\n",
       "      <td>0</td>\n",
       "      <td>0</td>\n",
       "      <td>0</td>\n",
       "      <td>0</td>\n",
       "    </tr>\n",
       "    <tr>\n",
       "      <th>2</th>\n",
       "      <td>1</td>\n",
       "      <td>0</td>\n",
       "      <td>0</td>\n",
       "      <td>0</td>\n",
       "      <td>0</td>\n",
       "      <td>0</td>\n",
       "      <td>0</td>\n",
       "      <td>0</td>\n",
       "      <td>0</td>\n",
       "      <td>0</td>\n",
       "      <td>...</td>\n",
       "      <td>0</td>\n",
       "      <td>0</td>\n",
       "      <td>0</td>\n",
       "      <td>0</td>\n",
       "      <td>0</td>\n",
       "      <td>0</td>\n",
       "      <td>0</td>\n",
       "      <td>0</td>\n",
       "      <td>0</td>\n",
       "      <td>0</td>\n",
       "    </tr>\n",
       "    <tr>\n",
       "      <th>3</th>\n",
       "      <td>1</td>\n",
       "      <td>0</td>\n",
       "      <td>0</td>\n",
       "      <td>0</td>\n",
       "      <td>0</td>\n",
       "      <td>0</td>\n",
       "      <td>0</td>\n",
       "      <td>0</td>\n",
       "      <td>0</td>\n",
       "      <td>0</td>\n",
       "      <td>...</td>\n",
       "      <td>0</td>\n",
       "      <td>0</td>\n",
       "      <td>0</td>\n",
       "      <td>0</td>\n",
       "      <td>0</td>\n",
       "      <td>0</td>\n",
       "      <td>0</td>\n",
       "      <td>0</td>\n",
       "      <td>0</td>\n",
       "      <td>0</td>\n",
       "    </tr>\n",
       "    <tr>\n",
       "      <th>4</th>\n",
       "      <td>1</td>\n",
       "      <td>0</td>\n",
       "      <td>0</td>\n",
       "      <td>0</td>\n",
       "      <td>0</td>\n",
       "      <td>0</td>\n",
       "      <td>0</td>\n",
       "      <td>0</td>\n",
       "      <td>0</td>\n",
       "      <td>0</td>\n",
       "      <td>...</td>\n",
       "      <td>0</td>\n",
       "      <td>0</td>\n",
       "      <td>0</td>\n",
       "      <td>0</td>\n",
       "      <td>0</td>\n",
       "      <td>0</td>\n",
       "      <td>0</td>\n",
       "      <td>0</td>\n",
       "      <td>0</td>\n",
       "      <td>0</td>\n",
       "    </tr>\n",
       "    <tr>\n",
       "      <th>...</th>\n",
       "      <td>...</td>\n",
       "      <td>...</td>\n",
       "      <td>...</td>\n",
       "      <td>...</td>\n",
       "      <td>...</td>\n",
       "      <td>...</td>\n",
       "      <td>...</td>\n",
       "      <td>...</td>\n",
       "      <td>...</td>\n",
       "      <td>...</td>\n",
       "      <td>...</td>\n",
       "      <td>...</td>\n",
       "      <td>...</td>\n",
       "      <td>...</td>\n",
       "      <td>...</td>\n",
       "      <td>...</td>\n",
       "      <td>...</td>\n",
       "      <td>...</td>\n",
       "      <td>...</td>\n",
       "      <td>...</td>\n",
       "      <td>...</td>\n",
       "    </tr>\n",
       "    <tr>\n",
       "      <th>8464</th>\n",
       "      <td>1</td>\n",
       "      <td>0</td>\n",
       "      <td>0</td>\n",
       "      <td>0</td>\n",
       "      <td>0</td>\n",
       "      <td>0</td>\n",
       "      <td>0</td>\n",
       "      <td>0</td>\n",
       "      <td>0</td>\n",
       "      <td>0</td>\n",
       "      <td>...</td>\n",
       "      <td>0</td>\n",
       "      <td>0</td>\n",
       "      <td>0</td>\n",
       "      <td>0</td>\n",
       "      <td>0</td>\n",
       "      <td>0</td>\n",
       "      <td>0</td>\n",
       "      <td>0</td>\n",
       "      <td>0</td>\n",
       "      <td>0</td>\n",
       "    </tr>\n",
       "    <tr>\n",
       "      <th>8465</th>\n",
       "      <td>1</td>\n",
       "      <td>0</td>\n",
       "      <td>0</td>\n",
       "      <td>0</td>\n",
       "      <td>0</td>\n",
       "      <td>0</td>\n",
       "      <td>0</td>\n",
       "      <td>0</td>\n",
       "      <td>0</td>\n",
       "      <td>0</td>\n",
       "      <td>...</td>\n",
       "      <td>0</td>\n",
       "      <td>0</td>\n",
       "      <td>0</td>\n",
       "      <td>0</td>\n",
       "      <td>0</td>\n",
       "      <td>0</td>\n",
       "      <td>0</td>\n",
       "      <td>0</td>\n",
       "      <td>0</td>\n",
       "      <td>0</td>\n",
       "    </tr>\n",
       "    <tr>\n",
       "      <th>8466</th>\n",
       "      <td>2</td>\n",
       "      <td>0</td>\n",
       "      <td>0</td>\n",
       "      <td>0</td>\n",
       "      <td>0</td>\n",
       "      <td>0</td>\n",
       "      <td>0</td>\n",
       "      <td>0</td>\n",
       "      <td>0</td>\n",
       "      <td>0</td>\n",
       "      <td>...</td>\n",
       "      <td>0</td>\n",
       "      <td>0</td>\n",
       "      <td>0</td>\n",
       "      <td>0</td>\n",
       "      <td>0</td>\n",
       "      <td>0</td>\n",
       "      <td>0</td>\n",
       "      <td>0</td>\n",
       "      <td>0</td>\n",
       "      <td>0</td>\n",
       "    </tr>\n",
       "    <tr>\n",
       "      <th>8467</th>\n",
       "      <td>2</td>\n",
       "      <td>0</td>\n",
       "      <td>0</td>\n",
       "      <td>0</td>\n",
       "      <td>0</td>\n",
       "      <td>0</td>\n",
       "      <td>0</td>\n",
       "      <td>0</td>\n",
       "      <td>0</td>\n",
       "      <td>0</td>\n",
       "      <td>...</td>\n",
       "      <td>0</td>\n",
       "      <td>0</td>\n",
       "      <td>0</td>\n",
       "      <td>0</td>\n",
       "      <td>0</td>\n",
       "      <td>0</td>\n",
       "      <td>0</td>\n",
       "      <td>0</td>\n",
       "      <td>0</td>\n",
       "      <td>0</td>\n",
       "    </tr>\n",
       "    <tr>\n",
       "      <th>8468</th>\n",
       "      <td>2</td>\n",
       "      <td>0</td>\n",
       "      <td>0</td>\n",
       "      <td>0</td>\n",
       "      <td>0</td>\n",
       "      <td>0</td>\n",
       "      <td>0</td>\n",
       "      <td>0</td>\n",
       "      <td>0</td>\n",
       "      <td>0</td>\n",
       "      <td>...</td>\n",
       "      <td>0</td>\n",
       "      <td>0</td>\n",
       "      <td>0</td>\n",
       "      <td>0</td>\n",
       "      <td>0</td>\n",
       "      <td>0</td>\n",
       "      <td>0</td>\n",
       "      <td>0</td>\n",
       "      <td>0</td>\n",
       "      <td>0</td>\n",
       "    </tr>\n",
       "  </tbody>\n",
       "</table>\n",
       "<p>8469 rows × 6232 columns</p>\n",
       "</div>"
      ],
      "text/plain": [
       "      a  aaron  ab  ability  able  about  aboutumes  above  abroad  absmith  \\\n",
       "0     1      0   0        0     0      0          0      0       0        0   \n",
       "1     0      0   0        0     0      0          0      0       0        0   \n",
       "2     1      0   0        0     0      0          0      0       0        0   \n",
       "3     1      0   0        0     0      0          0      0       0        0   \n",
       "4     1      0   0        0     0      0          0      0       0        0   \n",
       "...  ..    ...  ..      ...   ...    ...        ...    ...     ...      ...   \n",
       "8464  1      0   0        0     0      0          0      0       0        0   \n",
       "8465  1      0   0        0     0      0          0      0       0        0   \n",
       "8466  2      0   0        0     0      0          0      0       0        0   \n",
       "8467  2      0   0        0     0      0          0      0       0        0   \n",
       "8468  2      0   0        0     0      0          0      0       0        0   \n",
       "\n",
       "      ...  zerohits  zg  zilp  zinski  zip  zoe  zoltan  zombiecobra  zombii  \\\n",
       "0     ...         0   0     0       0    1    0       0            0       0   \n",
       "1     ...         0   0     0       0    0    0       0            0       0   \n",
       "2     ...         0   0     0       0    0    0       0            0       0   \n",
       "3     ...         0   0     0       0    0    0       0            0       0   \n",
       "4     ...         0   0     0       0    0    0       0            0       0   \n",
       "...   ...       ...  ..   ...     ...  ...  ...     ...          ...     ...   \n",
       "8464  ...         0   0     0       0    0    0       0            0       0   \n",
       "8465  ...         0   0     0       0    0    0       0            0       0   \n",
       "8466  ...         0   0     0       0    0    0       0            0       0   \n",
       "8467  ...         0   0     0       0    0    0       0            0       0   \n",
       "8468  ...         0   0     0       0    0    0       0            0       0   \n",
       "\n",
       "      zoom  \n",
       "0        0  \n",
       "1        0  \n",
       "2        0  \n",
       "3        0  \n",
       "4        0  \n",
       "...    ...  \n",
       "8464     0  \n",
       "8465     0  \n",
       "8466     0  \n",
       "8467     0  \n",
       "8468     0  \n",
       "\n",
       "[8469 rows x 6232 columns]"
      ]
     },
     "execution_count": 16,
     "metadata": {},
     "output_type": "execute_result"
    }
   ],
   "source": [
    "# print the dtm\n",
    "tickets_dtm_df"
   ]
  },
  {
   "cell_type": "code",
   "execution_count": 17,
   "id": "df884ca3-4d3d-4afd-acbd-fec003afa091",
   "metadata": {},
   "outputs": [
    {
     "data": {
      "text/plain": [
       "problem\n",
       "0    6358\n",
       "1    1948\n",
       "2     153\n",
       "3       9\n",
       "4       1\n",
       "Name: count, dtype: int64"
      ]
     },
     "execution_count": 17,
     "metadata": {},
     "output_type": "execute_result"
    }
   ],
   "source": [
    "# get an overview of the word 'problem'\n",
    "\n",
    "tickets_dtm_df['problem'].value_counts()\n",
    "# tickets_dtm_df['problem'].describe()"
   ]
  },
  {
   "cell_type": "markdown",
   "id": "29950204-dea6-47b7-ad29-e43490814142",
   "metadata": {},
   "source": [
    "'Problem' appears once in 1948 tickets, twice in 153 tickets, three times in 9 tickets, and four times in 1 ticket. "
   ]
  },
  {
   "cell_type": "markdown",
   "id": "7a237bad-660b-41e6-b17b-88abc6f0c3c2",
   "metadata": {},
   "source": [
    "### Term frequency - Inverse Document Frequency"
   ]
  },
  {
   "cell_type": "markdown",
   "id": "78a5ee6d-71a7-417f-87e5-0f617a785079",
   "metadata": {},
   "source": [
    "Term frequency - Inverse Document frequency is a feature scoring measure, used to weight words that are more distinctive of their document. It combines the term frequency (tf) of a word in a document, and the inverse document frequency (idf), the inverse of the number of documents the word appears in across the corpus. In this way, it tends to boost words that appear more frequently in a document than elsewhere in the corpus, and downgrades words that appear frequently in lots of documents."
   ]
  },
  {
   "cell_type": "markdown",
   "id": "b2b306c6-0316-438c-8fba-1cd159dbcc95",
   "metadata": {},
   "source": [
    "#### Understanding Tf-idf in more detail"
   ]
  },
  {
   "cell_type": "code",
   "execution_count": 18,
   "id": "aa2ba7cb-28c5-4224-bf76-7dbc7877e612",
   "metadata": {
    "executionInfo": {
     "elapsed": 291,
     "status": "ok",
     "timestamp": 1707603554882,
     "user": {
      "displayName": "Christopher Thomson",
      "userId": "06069808385232535167"
     },
     "user_tz": -780
    },
    "id": "gEe7zwvnlaZj"
   },
   "outputs": [],
   "source": [
    "# This code cell is adapted from Steven Loria's TF-IDF example using the Textblob package\n",
    "# Just for illustration purposes - we will use Sci-kit Learn to calculate this for us\n",
    "\n",
    "import math\n",
    "from textblob import TextBlob as tb\n",
    "\n",
    "def raw_tf(word, doc):\n",
    "    return doc.words.count(word)\n",
    "\n",
    "def rel_tf(word, doc):\n",
    "    return doc.words.count(word) / len(doc.words)\n",
    "\n",
    "def doc_frequency(word, corpus):\n",
    "    return sum(1 for doc in corpus if word in doc)\n",
    "\n",
    "def idf(word, corpus):\n",
    "    # this takes the natural logarithm\n",
    "    return math.log(len(corpus) / (1 + doc_frequency(word, corpus)))\n",
    "\n",
    "def tfidf(word, doc, corpus):\n",
    "    return rel_tf(word, doc) * idf(word, corpus)"
   ]
  },
  {
   "cell_type": "code",
   "execution_count": 19,
   "id": "c5e56325-5baa-40de-8451-9d811e24da34",
   "metadata": {
    "colab": {
     "base_uri": "https://localhost:8080/",
     "height": 677
    },
    "executionInfo": {
     "elapsed": 327,
     "status": "ok",
     "timestamp": 1707603814250,
     "user": {
      "displayName": "Christopher Thomson",
      "userId": "06069808385232535167"
     },
     "user_tz": -780
    },
    "id": "ncXNA33RfE7f",
    "outputId": "845a2582-d74a-4177-cf90-4fceba1b75ff"
   },
   "outputs": [
    {
     "data": {
      "text/html": [
       "<div>\n",
       "<style scoped>\n",
       "    .dataframe tbody tr th:only-of-type {\n",
       "        vertical-align: middle;\n",
       "    }\n",
       "\n",
       "    .dataframe tbody tr th {\n",
       "        vertical-align: top;\n",
       "    }\n",
       "\n",
       "    .dataframe thead th {\n",
       "        text-align: right;\n",
       "    }\n",
       "</style>\n",
       "<table border=\"1\" class=\"dataframe\">\n",
       "  <thead>\n",
       "    <tr style=\"text-align: right;\">\n",
       "      <th></th>\n",
       "      <th>word</th>\n",
       "      <th>raw_frequency</th>\n",
       "      <th>rel_frequency</th>\n",
       "      <th>document_frequency</th>\n",
       "      <th>IDF</th>\n",
       "      <th>TF-IDF</th>\n",
       "    </tr>\n",
       "  </thead>\n",
       "  <tbody>\n",
       "    <tr>\n",
       "      <th>16</th>\n",
       "      <td>existing</td>\n",
       "      <td>1</td>\n",
       "      <td>0.02127659574468085</td>\n",
       "      <td>18</td>\n",
       "      <td>6.099728737755159</td>\n",
       "      <td>0.129781</td>\n",
       "    </tr>\n",
       "    <tr>\n",
       "      <th>10</th>\n",
       "      <td>If</td>\n",
       "      <td>2</td>\n",
       "      <td>0.0425531914893617</td>\n",
       "      <td>1132</td>\n",
       "      <td>2.0115434558935927</td>\n",
       "      <td>0.085598</td>\n",
       "    </tr>\n",
       "    <tr>\n",
       "      <th>29</th>\n",
       "      <td>The</td>\n",
       "      <td>3</td>\n",
       "      <td>0.06382978723404255</td>\n",
       "      <td>2281</td>\n",
       "      <td>1.311360186499578</td>\n",
       "      <td>0.083704</td>\n",
       "    </tr>\n",
       "    <tr>\n",
       "      <th>46</th>\n",
       "      <td>unexpectedly</td>\n",
       "      <td>1</td>\n",
       "      <td>0.02127659574468085</td>\n",
       "      <td>499</td>\n",
       "      <td>2.8295596184994074</td>\n",
       "      <td>0.060203</td>\n",
       "    </tr>\n",
       "    <tr>\n",
       "      <th>36</th>\n",
       "      <td>Sometimes</td>\n",
       "      <td>1</td>\n",
       "      <td>0.02127659574468085</td>\n",
       "      <td>500</td>\n",
       "      <td>2.8275616158367343</td>\n",
       "      <td>0.060161</td>\n",
       "    </tr>\n",
       "    <tr>\n",
       "      <th>44</th>\n",
       "      <td>acts</td>\n",
       "      <td>1</td>\n",
       "      <td>0.02127659574468085</td>\n",
       "      <td>501</td>\n",
       "      <td>2.82556759722987</td>\n",
       "      <td>0.060118</td>\n",
       "    </tr>\n",
       "    <tr>\n",
       "      <th>14</th>\n",
       "      <td>change</td>\n",
       "      <td>1</td>\n",
       "      <td>0.02127659574468085</td>\n",
       "      <td>651</td>\n",
       "      <td>2.564123154994946</td>\n",
       "      <td>0.054556</td>\n",
       "    </tr>\n",
       "    <tr>\n",
       "      <th>35</th>\n",
       "      <td>intermittent</td>\n",
       "      <td>1</td>\n",
       "      <td>0.02127659574468085</td>\n",
       "      <td>674</td>\n",
       "      <td>2.529455026049069</td>\n",
       "      <td>0.053818</td>\n",
       "    </tr>\n",
       "    <tr>\n",
       "      <th>33</th>\n",
       "      <td>facing</td>\n",
       "      <td>1</td>\n",
       "      <td>0.02127659574468085</td>\n",
       "      <td>819</td>\n",
       "      <td>2.3348633766633</td>\n",
       "      <td>0.049678</td>\n",
       "    </tr>\n",
       "    <tr>\n",
       "      <th>39</th>\n",
       "      <td>fine</td>\n",
       "      <td>1</td>\n",
       "      <td>0.02127659574468085</td>\n",
       "      <td>881</td>\n",
       "      <td>2.261975660914808</td>\n",
       "      <td>0.048127</td>\n",
       "    </tr>\n",
       "    <tr>\n",
       "      <th>38</th>\n",
       "      <td>works</td>\n",
       "      <td>1</td>\n",
       "      <td>0.02127659574468085</td>\n",
       "      <td>883</td>\n",
       "      <td>2.2597106542839556</td>\n",
       "      <td>0.048079</td>\n",
       "    </tr>\n",
       "    <tr>\n",
       "      <th>42</th>\n",
       "      <td>times</td>\n",
       "      <td>1</td>\n",
       "      <td>0.02127659574468085</td>\n",
       "      <td>975</td>\n",
       "      <td>2.1607051305085068</td>\n",
       "      <td>0.045972</td>\n",
       "    </tr>\n",
       "    <tr>\n",
       "      <th>12</th>\n",
       "      <td>need</td>\n",
       "      <td>1</td>\n",
       "      <td>0.02127659574468085</td>\n",
       "      <td>1017</td>\n",
       "      <td>2.118572519811131</td>\n",
       "      <td>0.045076</td>\n",
       "    </tr>\n",
       "    <tr>\n",
       "      <th>41</th>\n",
       "      <td>other</td>\n",
       "      <td>1</td>\n",
       "      <td>0.02127659574468085</td>\n",
       "      <td>1604</td>\n",
       "      <td>1.6632886813574828</td>\n",
       "      <td>0.035389</td>\n",
       "    </tr>\n",
       "    <tr>\n",
       "      <th>11</th>\n",
       "      <td>you</td>\n",
       "      <td>1</td>\n",
       "      <td>0.02127659574468085</td>\n",
       "      <td>3741</td>\n",
       "      <td>0.8167922100875641</td>\n",
       "      <td>0.017379</td>\n",
       "    </tr>\n",
       "    <tr>\n",
       "      <th>45</th>\n",
       "      <td>up</td>\n",
       "      <td>1</td>\n",
       "      <td>0.02127659574468085</td>\n",
       "      <td>3812</td>\n",
       "      <td>0.7979961570640354</td>\n",
       "      <td>0.016979</td>\n",
       "    </tr>\n",
       "    <tr>\n",
       "      <th>40</th>\n",
       "      <td>but</td>\n",
       "      <td>1</td>\n",
       "      <td>0.02127659574468085</td>\n",
       "      <td>4053</td>\n",
       "      <td>0.7367083899096537</td>\n",
       "      <td>0.015675</td>\n",
       "    </tr>\n",
       "    <tr>\n",
       "      <th>8</th>\n",
       "      <td>Please</td>\n",
       "      <td>2</td>\n",
       "      <td>0.0425531914893617</td>\n",
       "      <td>5997</td>\n",
       "      <td>0.34498635761264457</td>\n",
       "      <td>0.014680</td>\n",
       "    </tr>\n",
       "    <tr>\n",
       "      <th>9</th>\n",
       "      <td>assist</td>\n",
       "      <td>2</td>\n",
       "      <td>0.0425531914893617</td>\n",
       "      <td>6017</td>\n",
       "      <td>0.34165745973160855</td>\n",
       "      <td>0.014539</td>\n",
       "    </tr>\n",
       "    <tr>\n",
       "      <th>2</th>\n",
       "      <td>having</td>\n",
       "      <td>2</td>\n",
       "      <td>0.0425531914893617</td>\n",
       "      <td>6054</td>\n",
       "      <td>0.3355280609344064</td>\n",
       "      <td>0.014278</td>\n",
       "    </tr>\n",
       "  </tbody>\n",
       "</table>\n",
       "</div>"
      ],
      "text/plain": [
       "            word raw_frequency        rel_frequency document_frequency  \\\n",
       "16      existing             1  0.02127659574468085                 18   \n",
       "10            If             2   0.0425531914893617               1132   \n",
       "29           The             3  0.06382978723404255               2281   \n",
       "46  unexpectedly             1  0.02127659574468085                499   \n",
       "36     Sometimes             1  0.02127659574468085                500   \n",
       "44          acts             1  0.02127659574468085                501   \n",
       "14        change             1  0.02127659574468085                651   \n",
       "35  intermittent             1  0.02127659574468085                674   \n",
       "33        facing             1  0.02127659574468085                819   \n",
       "39          fine             1  0.02127659574468085                881   \n",
       "38         works             1  0.02127659574468085                883   \n",
       "42         times             1  0.02127659574468085                975   \n",
       "12          need             1  0.02127659574468085               1017   \n",
       "41         other             1  0.02127659574468085               1604   \n",
       "11           you             1  0.02127659574468085               3741   \n",
       "45            up             1  0.02127659574468085               3812   \n",
       "40           but             1  0.02127659574468085               4053   \n",
       "8         Please             2   0.0425531914893617               5997   \n",
       "9         assist             2   0.0425531914893617               6017   \n",
       "2         having             2   0.0425531914893617               6054   \n",
       "\n",
       "                    IDF    TF-IDF  \n",
       "16    6.099728737755159  0.129781  \n",
       "10   2.0115434558935927  0.085598  \n",
       "29    1.311360186499578  0.083704  \n",
       "46   2.8295596184994074  0.060203  \n",
       "36   2.8275616158367343  0.060161  \n",
       "44     2.82556759722987  0.060118  \n",
       "14    2.564123154994946  0.054556  \n",
       "35    2.529455026049069  0.053818  \n",
       "33      2.3348633766633  0.049678  \n",
       "39    2.261975660914808  0.048127  \n",
       "38   2.2597106542839556  0.048079  \n",
       "42   2.1607051305085068  0.045972  \n",
       "12    2.118572519811131  0.045076  \n",
       "41   1.6632886813574828  0.035389  \n",
       "11   0.8167922100875641  0.017379  \n",
       "45   0.7979961570640354  0.016979  \n",
       "40   0.7367083899096537  0.015675  \n",
       "8   0.34498635761264457  0.014680  \n",
       "9   0.34165745973160855  0.014539  \n",
       "2    0.3355280609344064  0.014278  "
      ]
     },
     "execution_count": 19,
     "metadata": {},
     "output_type": "execute_result"
    }
   ],
   "source": [
    "import pandas as pd\n",
    "\n",
    "# Make a textblob document with one text\n",
    "# Calculate tf-idf using the whole tickets_corpus dataset\n",
    "\n",
    "example_1 = tb(tickets_corpus[1])\n",
    "\n",
    "results = []\n",
    "\n",
    "for word in example_1.words:\n",
    "  raw_freq = raw_tf(word, example_1)\n",
    "  rel_freq = rel_tf(word, example_1)\n",
    "  doc_freq = doc_frequency(word, tickets_corpus)\n",
    "  inverse_doc_freq = idf(word, tickets_corpus)\n",
    "  tf_idf = tfidf(word, example_1, tickets_corpus)\n",
    "\n",
    "  example_1_scores = {'word': '{}'.format(word),\n",
    "            'raw_frequency': '{}'.format(raw_freq),\n",
    "            'rel_frequency': '{}'.format(rel_freq),\n",
    "            'document_frequency': '{}'.format(doc_freq),\n",
    "            'IDF': '{}'.format(inverse_doc_freq),\n",
    "            'TF-IDF': '{}'.format(tf_idf)}\n",
    "  results.append(example_1_scores)\n",
    "\n",
    "example_1_df = pd.DataFrame(results)\n",
    "\n",
    "# here we have to ensure the TF-IDF scores are treated as numbers, not text\n",
    "example_1_df['TF-IDF'] = pd.to_numeric(example_1_df[\"TF-IDF\"])\n",
    "\n",
    "# build a view with one row per unique word\n",
    "unique = example_1_df[['word', 'raw_frequency', 'rel_frequency', 'document_frequency', 'IDF', 'TF-IDF']].drop_duplicates()\n",
    "\n",
    "# sort on Tf-idf values\n",
    "unique.sort_values(by='TF-IDF', ascending=False).head(20)"
   ]
  },
  {
   "cell_type": "markdown",
   "id": "cba0fafe-3c6c-463d-9f5f-f43dce4e89e9",
   "metadata": {},
   "source": [
    "#### Document-term matrix with Tf-idf"
   ]
  },
  {
   "cell_type": "code",
   "execution_count": 20,
   "id": "b6e24a54-0311-46cc-948d-7929643e7d3f",
   "metadata": {},
   "outputs": [],
   "source": [
    "from sklearn.feature_extraction.text import TfidfVectorizer"
   ]
  },
  {
   "cell_type": "code",
   "execution_count": 21,
   "id": "cfbe42f3-cf38-450e-8185-5b3f5385fa9d",
   "metadata": {},
   "outputs": [
    {
     "data": {
      "text/html": [
       "<div>\n",
       "<style scoped>\n",
       "    .dataframe tbody tr th:only-of-type {\n",
       "        vertical-align: middle;\n",
       "    }\n",
       "\n",
       "    .dataframe tbody tr th {\n",
       "        vertical-align: top;\n",
       "    }\n",
       "\n",
       "    .dataframe thead th {\n",
       "        text-align: right;\n",
       "    }\n",
       "</style>\n",
       "<table border=\"1\" class=\"dataframe\">\n",
       "  <thead>\n",
       "    <tr style=\"text-align: right;\">\n",
       "      <th></th>\n",
       "      <th>a</th>\n",
       "      <th>ability</th>\n",
       "      <th>able</th>\n",
       "      <th>about</th>\n",
       "      <th>above</th>\n",
       "      <th>absolutely</th>\n",
       "      <th>accept</th>\n",
       "      <th>accepted</th>\n",
       "      <th>access</th>\n",
       "      <th>accessible</th>\n",
       "      <th>...</th>\n",
       "      <th>year</th>\n",
       "      <th>years</th>\n",
       "      <th>yes</th>\n",
       "      <th>yesterday</th>\n",
       "      <th>yet</th>\n",
       "      <th>york</th>\n",
       "      <th>you</th>\n",
       "      <th>your</th>\n",
       "      <th>yours</th>\n",
       "      <th>z</th>\n",
       "    </tr>\n",
       "  </thead>\n",
       "  <tbody>\n",
       "    <tr>\n",
       "      <th>0</th>\n",
       "      <td>0.071015</td>\n",
       "      <td>0.0</td>\n",
       "      <td>0.0</td>\n",
       "      <td>0.0</td>\n",
       "      <td>0.0</td>\n",
       "      <td>0.0</td>\n",
       "      <td>0.0</td>\n",
       "      <td>0.0</td>\n",
       "      <td>0.0</td>\n",
       "      <td>0.0</td>\n",
       "      <td>...</td>\n",
       "      <td>0.0</td>\n",
       "      <td>0.0</td>\n",
       "      <td>0.0</td>\n",
       "      <td>0.000000</td>\n",
       "      <td>0.0</td>\n",
       "      <td>0.0</td>\n",
       "      <td>0.084612</td>\n",
       "      <td>0.250138</td>\n",
       "      <td>0.0</td>\n",
       "      <td>0.0</td>\n",
       "    </tr>\n",
       "    <tr>\n",
       "      <th>1</th>\n",
       "      <td>0.000000</td>\n",
       "      <td>0.0</td>\n",
       "      <td>0.0</td>\n",
       "      <td>0.0</td>\n",
       "      <td>0.0</td>\n",
       "      <td>0.0</td>\n",
       "      <td>0.0</td>\n",
       "      <td>0.0</td>\n",
       "      <td>0.0</td>\n",
       "      <td>0.0</td>\n",
       "      <td>...</td>\n",
       "      <td>0.0</td>\n",
       "      <td>0.0</td>\n",
       "      <td>0.0</td>\n",
       "      <td>0.000000</td>\n",
       "      <td>0.0</td>\n",
       "      <td>0.0</td>\n",
       "      <td>0.100733</td>\n",
       "      <td>0.000000</td>\n",
       "      <td>0.0</td>\n",
       "      <td>0.0</td>\n",
       "    </tr>\n",
       "    <tr>\n",
       "      <th>2</th>\n",
       "      <td>0.074789</td>\n",
       "      <td>0.0</td>\n",
       "      <td>0.0</td>\n",
       "      <td>0.0</td>\n",
       "      <td>0.0</td>\n",
       "      <td>0.0</td>\n",
       "      <td>0.0</td>\n",
       "      <td>0.0</td>\n",
       "      <td>0.0</td>\n",
       "      <td>0.0</td>\n",
       "      <td>...</td>\n",
       "      <td>0.0</td>\n",
       "      <td>0.0</td>\n",
       "      <td>0.0</td>\n",
       "      <td>0.227836</td>\n",
       "      <td>0.0</td>\n",
       "      <td>0.0</td>\n",
       "      <td>0.000000</td>\n",
       "      <td>0.000000</td>\n",
       "      <td>0.0</td>\n",
       "      <td>0.0</td>\n",
       "    </tr>\n",
       "    <tr>\n",
       "      <th>3</th>\n",
       "      <td>0.072596</td>\n",
       "      <td>0.0</td>\n",
       "      <td>0.0</td>\n",
       "      <td>0.0</td>\n",
       "      <td>0.0</td>\n",
       "      <td>0.0</td>\n",
       "      <td>0.0</td>\n",
       "      <td>0.0</td>\n",
       "      <td>0.0</td>\n",
       "      <td>0.0</td>\n",
       "      <td>...</td>\n",
       "      <td>0.0</td>\n",
       "      <td>0.0</td>\n",
       "      <td>0.0</td>\n",
       "      <td>0.000000</td>\n",
       "      <td>0.0</td>\n",
       "      <td>0.0</td>\n",
       "      <td>0.172992</td>\n",
       "      <td>0.000000</td>\n",
       "      <td>0.0</td>\n",
       "      <td>0.0</td>\n",
       "    </tr>\n",
       "    <tr>\n",
       "      <th>4</th>\n",
       "      <td>0.059045</td>\n",
       "      <td>0.0</td>\n",
       "      <td>0.0</td>\n",
       "      <td>0.0</td>\n",
       "      <td>0.0</td>\n",
       "      <td>0.0</td>\n",
       "      <td>0.0</td>\n",
       "      <td>0.0</td>\n",
       "      <td>0.0</td>\n",
       "      <td>0.0</td>\n",
       "      <td>...</td>\n",
       "      <td>0.0</td>\n",
       "      <td>0.0</td>\n",
       "      <td>0.0</td>\n",
       "      <td>0.000000</td>\n",
       "      <td>0.0</td>\n",
       "      <td>0.0</td>\n",
       "      <td>0.070351</td>\n",
       "      <td>0.000000</td>\n",
       "      <td>0.0</td>\n",
       "      <td>0.0</td>\n",
       "    </tr>\n",
       "  </tbody>\n",
       "</table>\n",
       "<p>5 rows × 1631 columns</p>\n",
       "</div>"
      ],
      "text/plain": [
       "          a  ability  able  about  above  absolutely  accept  accepted  \\\n",
       "0  0.071015      0.0   0.0    0.0    0.0         0.0     0.0       0.0   \n",
       "1  0.000000      0.0   0.0    0.0    0.0         0.0     0.0       0.0   \n",
       "2  0.074789      0.0   0.0    0.0    0.0         0.0     0.0       0.0   \n",
       "3  0.072596      0.0   0.0    0.0    0.0         0.0     0.0       0.0   \n",
       "4  0.059045      0.0   0.0    0.0    0.0         0.0     0.0       0.0   \n",
       "\n",
       "   access  accessible  ...  year  years  yes  yesterday  yet  york       you  \\\n",
       "0     0.0         0.0  ...   0.0    0.0  0.0   0.000000  0.0   0.0  0.084612   \n",
       "1     0.0         0.0  ...   0.0    0.0  0.0   0.000000  0.0   0.0  0.100733   \n",
       "2     0.0         0.0  ...   0.0    0.0  0.0   0.227836  0.0   0.0  0.000000   \n",
       "3     0.0         0.0  ...   0.0    0.0  0.0   0.000000  0.0   0.0  0.172992   \n",
       "4     0.0         0.0  ...   0.0    0.0  0.0   0.000000  0.0   0.0  0.070351   \n",
       "\n",
       "       your  yours    z  \n",
       "0  0.250138    0.0  0.0  \n",
       "1  0.000000    0.0  0.0  \n",
       "2  0.000000    0.0  0.0  \n",
       "3  0.000000    0.0  0.0  \n",
       "4  0.000000    0.0  0.0  \n",
       "\n",
       "[5 rows x 1631 columns]"
      ]
     },
     "execution_count": 21,
     "metadata": {},
     "output_type": "execute_result"
    }
   ],
   "source": [
    "# We can apply various pre-processing steps to our vectorizer\n",
    "# Here we add a minimum doc frequency, similar to what we've done using AntConc\n",
    "# We also \n",
    "\n",
    "vectorizer2 = TfidfVectorizer(min_df=5, lowercase=True, token_pattern=r'[a-zA-Z]+')\n",
    "tfidf_dtm = vectorizer2.fit_transform(tickets_corpus)\n",
    "tfidf_dtm_df = pd.DataFrame(tfidf_dtm.toarray(),\n",
    "                      columns=vectorizer2.get_feature_names_out())\n",
    "\n",
    "# Show us the first 10 rows\n",
    "# Notice the tf-idf scores are floats, not counts\n",
    "tfidf_dtm_df.head()"
   ]
  },
  {
   "cell_type": "markdown",
   "id": "c387ed80-051a-4ea3-805c-2b18d37bfd12",
   "metadata": {
    "id": "u0vMIhOnYOkV"
   },
   "source": [
    "### Measuring Similarity\n",
    "\n",
    "How can we measure similarity from the document-term matrix?"
   ]
  },
  {
   "cell_type": "code",
   "execution_count": 22,
   "id": "fe90e8b2-2534-4303-9f1e-838154803115",
   "metadata": {
    "executionInfo": {
     "elapsed": 315,
     "status": "ok",
     "timestamp": 1707604647939,
     "user": {
      "displayName": "Christopher Thomson",
      "userId": "06069808385232535167"
     },
     "user_tz": -780
    },
    "id": "5BcR0ML1ckoz"
   },
   "outputs": [],
   "source": [
    "# a code snippet to help make output later in this section readable!\n",
    "import textwrap\n",
    "\n",
    "wrapper = textwrap.TextWrapper(width=35,\n",
    "    initial_indent=\" \" * 4,\n",
    "    subsequent_indent=\" \" * 4,\n",
    "    break_long_words=False,\n",
    "    break_on_hyphens=False)"
   ]
  },
  {
   "cell_type": "markdown",
   "id": "77514801-2095-4af6-8ddc-035e14dffd07",
   "metadata": {
    "id": "H_GCbcIbwBmd"
   },
   "source": [
    "The first step is to compute a similarity matrix."
   ]
  },
  {
   "cell_type": "code",
   "execution_count": 23,
   "id": "a08f0321-1d59-42a7-916e-8f400db7f1da",
   "metadata": {
    "colab": {
     "base_uri": "https://localhost:8080/"
    },
    "executionInfo": {
     "elapsed": 526,
     "status": "ok",
     "timestamp": 1707604751219,
     "user": {
      "displayName": "Christopher Thomson",
      "userId": "06069808385232535167"
     },
     "user_tz": -780
    },
    "id": "ckA0H0Ygm1jc",
    "outputId": "92c35f64-5a1a-4151-e100-2e88d01d9551"
   },
   "outputs": [
    {
     "name": "stdout",
     "output_type": "stream",
     "text": [
      "[[1.         0.14950106 0.08505134 ... 0.11785847 0.16831609 0.15551782]\n",
      " [0.14950106 1.         0.22158801 ... 0.21599035 0.22122579 0.14021276]\n",
      " [0.08505134 0.22158801 1.         ... 0.25501771 0.18535725 0.22331872]\n",
      " ...\n",
      " [0.11785847 0.21599035 0.25501771 ... 1.         0.22742156 0.25251166]\n",
      " [0.16831609 0.22122579 0.18535725 ... 0.22742156 1.         0.19917944]\n",
      " [0.15551782 0.14021276 0.22331872 ... 0.25251166 0.19917944 1.        ]]\n"
     ]
    }
   ],
   "source": [
    "from sklearn.metrics.pairwise import cosine_similarity\n",
    "\n",
    "# compute a similarity matrix\n",
    "# notice its symmetry along the diagonal\n",
    "cosine_sim = cosine_similarity(tfidf_dtm, tfidf_dtm)\n",
    "print(cosine_sim)"
   ]
  },
  {
   "cell_type": "code",
   "execution_count": 24,
   "id": "9fa87844-11b3-472b-a62c-4d8e5aa84af5",
   "metadata": {},
   "outputs": [
    {
     "data": {
      "text/plain": [
       "(8469, 1631)"
      ]
     },
     "execution_count": 24,
     "metadata": {},
     "output_type": "execute_result"
    }
   ],
   "source": [
    "tfidf_dtm.shape"
   ]
  },
  {
   "cell_type": "markdown",
   "id": "f489fd54-613e-43ef-b891-15ed31f155e2",
   "metadata": {
    "id": "bdw0NQnWpj0W"
   },
   "source": [
    "This similarity matrix compares the TF-IDF vectors for each document with every other document. This  the cosine similarity in each case. The outcome is a similarity matrix (8469 rows/docs x 1684 columns/words) that summarises the similarity between documents for the whole corpus.\n",
    "\n",
    "The similarity matrix can be used to find which documents are most similar."
   ]
  },
  {
   "cell_type": "code",
   "execution_count": 25,
   "id": "72573458-d072-487d-a93e-f6d213bfcba4",
   "metadata": {
    "colab": {
     "base_uri": "https://localhost:8080/"
    },
    "executionInfo": {
     "elapsed": 295,
     "status": "ok",
     "timestamp": 1707605173379,
     "user": {
      "displayName": "Christopher Thomson",
      "userId": "06069808385232535167"
     },
     "user_tz": -780
    },
    "id": "9klf8yqhYEac",
    "outputId": "069797ff-7d43-47b3-fad6-1c8fa3da01b8"
   },
   "outputs": [
    {
     "data": {
      "text/plain": [
       "[(1, 1.0000000000000002),\n",
       " (668, 0.8079363756453974),\n",
       " (1902, 0.780961719140004),\n",
       " (539, 0.776450455943226),\n",
       " (1106, 0.776450455943226),\n",
       " (1520, 0.776450455943226),\n",
       " (1557, 0.776450455943226),\n",
       " (1735, 0.776450455943226),\n",
       " (2007, 0.776450455943226),\n",
       " (3389, 0.776450455943226)]"
      ]
     },
     "execution_count": 25,
     "metadata": {},
     "output_type": "execute_result"
    }
   ],
   "source": [
    "# specify a target document and find similar documents to it.\n",
    "target_doc = 1\n",
    "\n",
    "sim_scores = list(enumerate(cosine_sim[target_doc]))\n",
    "sorted_sim_scores = sorted(sim_scores, key=lambda x: x[1], reverse=True)\n",
    "sorted_sim_scores[:10]"
   ]
  },
  {
   "cell_type": "code",
   "execution_count": 26,
   "id": "5c41ef7a-ba0a-46f1-b161-117dfa06cd2b",
   "metadata": {
    "colab": {
     "base_uri": "https://localhost:8080/"
    },
    "executionInfo": {
     "elapsed": 316,
     "status": "ok",
     "timestamp": 1707605187321,
     "user": {
      "displayName": "Christopher Thomson",
      "userId": "06069808385232535167"
     },
     "user_tz": -780
    },
    "id": "Brh_65CBZ6yo",
    "outputId": "505b8a58-e941-453c-db3c-b0a816daf389"
   },
   "outputs": [
    {
     "name": "stdout",
     "output_type": "stream",
     "text": [
      "Documents similar to doc 1:\n",
      "The first result is the target document itself!\n",
      "\n",
      "\n",
      "1\n",
      "    I'm having an issue with the\n",
      "    {product_purchased}. Please\n",
      "    assist.  If you need to change\n",
      "    an existing product.  I'm\n",
      "    having an issue with the\n",
      "    {product_purchased}. Please\n",
      "    assist.  If The issue I'm\n",
      "    facing is intermittent.\n",
      "    Sometimes it works fine, but\n",
      "    other times it acts up\n",
      "    unexpectedly.\n",
      "\n",
      "\n",
      "-----\n",
      "668\n",
      "    I'm having an issue with the\n",
      "    {product_purchased}. Please\n",
      "    assist.   I'm having an issue\n",
      "    with the {product_purchased}.\n",
      "    Please assist. The issue I'm\n",
      "    facing is intermittent.\n",
      "    Sometimes it works fine, but\n",
      "    other times it acts up\n",
      "    unexpectedly.\n",
      "\n",
      "\n",
      "-----\n",
      "1902\n",
      "    I'm having an issue with the\n",
      "    {product_purchased}. Please\n",
      "    assist.  SMS, please assist!\n",
      "    The issue I'm facing is\n",
      "    intermittent. Sometimes it\n",
      "    works fine, but other times it\n",
      "    acts up unexpectedly.\n",
      "\n",
      "\n",
      "-----\n",
      "539\n",
      "    I'm having an issue with the\n",
      "    {product_purchased}. Please\n",
      "    assist. The issue I'm facing is\n",
      "    intermittent. Sometimes it\n",
      "    works fine, but other times it\n",
      "    acts up unexpectedly.\n",
      "\n",
      "\n",
      "-----\n",
      "1106\n",
      "    I'm having an issue with the\n",
      "    {product_purchased}. Please\n",
      "    assist.  - 1 -  2 -  3 -  4 -\n",
      "    The issue I'm facing is\n",
      "    intermittent. Sometimes it\n",
      "    works fine, but other times it\n",
      "    acts up unexpectedly.\n",
      "\n",
      "\n",
      "-----\n",
      "1520\n",
      "    I'm having an issue with the\n",
      "    {product_purchased}. Please\n",
      "    assist. The issue I'm facing is\n",
      "    intermittent. Sometimes it\n",
      "    works fine, but other times it\n",
      "    acts up unexpectedly.\n",
      "\n",
      "\n",
      "-----\n",
      "1557\n",
      "    I'm having an issue with the\n",
      "    {product_purchased}. Please\n",
      "    assist. The issue I'm facing is\n",
      "    intermittent. Sometimes it\n",
      "    works fine, but other times it\n",
      "    acts up unexpectedly.\n",
      "\n",
      "\n",
      "-----\n",
      "1735\n",
      "    I'm having an issue with the\n",
      "    {product_purchased}. Please\n",
      "    assist. The issue I'm facing is\n",
      "    intermittent. Sometimes it\n",
      "    works fine, but other times it\n",
      "    acts up unexpectedly.\n",
      "\n",
      "\n",
      "-----\n",
      "2007\n",
      "    I'm having an issue with the\n",
      "    {product_purchased}. Please\n",
      "    assist. The issue I'm facing is\n",
      "    intermittent. Sometimes it\n",
      "    works fine, but other times it\n",
      "    acts up unexpectedly.\n",
      "\n",
      "\n",
      "-----\n",
      "3389\n",
      "    I'm having an issue with the\n",
      "    {product_purchased}. Please\n",
      "    assist. The issue I'm facing is\n",
      "    intermittent. Sometimes it\n",
      "    works fine, but other times it\n",
      "    acts up unexpectedly.\n",
      "\n",
      "\n",
      "-----\n"
     ]
    }
   ],
   "source": [
    "print('Documents similar to doc {}:'.format(target_doc))\n",
    "print('The first result is the target document itself!')\n",
    "print('\\n')\n",
    "\n",
    "for doc in sorted_sim_scores[:10]:\n",
    "    print(doc[0])\n",
    "    print(wrapper.fill(tickets_corpus[doc[0]][:500]))\n",
    "    print('\\n')\n",
    "    print('-----')"
   ]
  },
  {
   "cell_type": "markdown",
   "id": "c74ec841-b7eb-454b-85fe-be4489327e98",
   "metadata": {},
   "source": [
    "### Word embeddings"
   ]
  },
  {
   "cell_type": "code",
   "execution_count": 27,
   "id": "65fe3e15-c438-4587-bf5a-42a35c609989",
   "metadata": {},
   "outputs": [
    {
     "name": "stderr",
     "output_type": "stream",
     "text": [
      "2025-07-24 15:56:38.756115: I tensorflow/tsl/cuda/cudart_stub.cc:28] Could not find cuda drivers on your machine, GPU will not be used.\n",
      "2025-07-24 15:56:38.808903: I tensorflow/core/platform/cpu_feature_guard.cc:182] This TensorFlow binary is optimized to use available CPU instructions in performance-critical operations.\n",
      "To enable the following instructions: AVX2 AVX512F FMA, in other operations, rebuild TensorFlow with the appropriate compiler flags.\n",
      "2025-07-24 15:56:39.711254: W tensorflow/compiler/tf2tensorrt/utils/py_utils.cc:38] TF-TRT Warning: Could not find TensorRT\n"
     ]
    }
   ],
   "source": [
    "import spacy\n",
    "nlp = spacy.load(\"en_core_web_sm\")"
   ]
  },
  {
   "cell_type": "code",
   "execution_count": 28,
   "id": "a7c81115-b203-4f58-a08b-eec2cd91277f",
   "metadata": {},
   "outputs": [],
   "source": [
    "# Load one ticket into a spaCy doc\n",
    "# We use spaCy tokenisation here, so not entirely comparable to our Sci-kit Learn examples.\n",
    "\n",
    "ticket_doc = nlp(tickets_corpus[1])"
   ]
  },
  {
   "cell_type": "code",
   "execution_count": 29,
   "id": "1249e2f4-45f6-4d08-b6d3-5cb15e8fc7af",
   "metadata": {},
   "outputs": [
    {
     "data": {
      "text/plain": [
       "\"I'm having an issue with the {product_purchased}. Please assist.\\n\\nIf you need to change an existing product.\\n\\nI'm having an issue with the {product_purchased}. Please assist.\\n\\nIf The issue I'm facing is intermittent. Sometimes it works fine, but other times it acts up unexpectedly.\""
      ]
     },
     "execution_count": 29,
     "metadata": {},
     "output_type": "execute_result"
    }
   ],
   "source": [
    "ticket_doc.text"
   ]
  },
  {
   "cell_type": "markdown",
   "id": "cebbec9f-93f1-421d-a28c-e12639874fb1",
   "metadata": {},
   "source": [
    "spaCy's underlying language model has learned a vector representation (ie embedding) for every word.\n",
    "\n",
    "We can get the vector for a word as follows."
   ]
  },
  {
   "cell_type": "code",
   "execution_count": 30,
   "id": "6c299dbc-e5cb-4a0a-8829-dc2336b933aa",
   "metadata": {},
   "outputs": [
    {
     "name": "stdout",
     "output_type": "stream",
     "text": [
      "[-1.48992846e-02 -9.72773433e-01 -2.12078834e+00 -8.65957975e-01\n",
      " -1.57547161e-01 -2.54883051e-01 -1.03888154e-01 -8.85680988e-02\n",
      "  4.54792380e-02  5.71994603e-01 -5.91094255e-01 -3.52282226e-01\n",
      "  2.37327814e-03  6.41643584e-01  6.39178514e-01 -2.07689896e-01\n",
      "  1.52641118e-01 -9.49111938e-01 -1.89393759e-01  3.51712942e-01\n",
      " -4.07214046e-01  1.78185749e+00  2.42372781e-01 -6.29985511e-01\n",
      "  2.44833484e-01  7.00281262e-01  2.67038047e-01  1.12765729e-01\n",
      " -1.57756436e+00  1.83215261e+00 -3.29652548e-01 -1.11963183e-01\n",
      "  3.93959373e-01 -1.51478052e-01  9.16151330e-02 -1.95592964e+00\n",
      " -1.06865358e+00 -1.44240618e+00  1.61721492e+00 -1.21393025e-01\n",
      " -4.23775911e-01  3.44340205e-01 -4.69387382e-01  5.55107176e-01\n",
      " -1.74799800e-01 -3.40565562e-01 -8.32144499e-01  1.60883307e-01\n",
      "  8.35322857e-01 -2.69881666e-01  1.14254797e+00  1.45602918e+00\n",
      " -6.38496816e-01  2.39781594e+00 -2.48123765e-01 -2.99766660e-01\n",
      "  1.85273933e+00 -5.02061665e-01 -2.79424369e-01  1.46277592e-01\n",
      " -9.11092877e-01 -8.58279228e-01 -1.25216627e+00  6.16362274e-01\n",
      "  1.23653507e+00  1.21330678e+00 -3.40687931e-02 -1.04370987e+00\n",
      "  6.55206919e-01 -4.28283930e-01  1.94252491e+00  7.15179294e-02\n",
      " -3.90799731e-01  2.70288438e-01 -2.32802451e-01  1.19923696e-01\n",
      "  2.21698523e+00  3.53900403e-01 -2.86570072e-01  1.17661878e-01\n",
      " -7.84770906e-01 -1.21282542e+00  1.56213212e+00 -5.83247662e-01\n",
      " -4.32386220e-01  1.46243572e+00  9.93497133e-01  2.50635535e-01\n",
      "  7.28412867e-01  1.19221246e+00  3.71419430e-01 -3.87808353e-01\n",
      "  1.11293542e+00  7.53124654e-01 -1.49660277e+00 -5.07843614e-01]\n"
     ]
    }
   ],
   "source": [
    "# get word vector for the word 'unexpectedly' - a 96 dimension vector\n",
    "\n",
    "unexpectedly = nlp(u'unexpectedly')\n",
    "print(unexpectedly.vector)"
   ]
  },
  {
   "cell_type": "markdown",
   "id": "d4803007-7fe5-4d90-9e4f-11d732cf8fc3",
   "metadata": {},
   "source": [
    "We can compare the word vector for 'unexpectedly' with some other words that might be related."
   ]
  },
  {
   "cell_type": "code",
   "execution_count": 31,
   "id": "f7e75e37-95fc-47aa-a393-63bced0dca4c",
   "metadata": {},
   "outputs": [],
   "source": [
    "intermittent = nlp(u'intermittent')\n",
    "surprisingly = nlp(u'surprisingly')"
   ]
  },
  {
   "cell_type": "code",
   "execution_count": 32,
   "id": "3f0bcd98-5b15-4ee7-a080-466a0da2a127",
   "metadata": {},
   "outputs": [
    {
     "data": {
      "text/plain": [
       "0.34489964073762713"
      ]
     },
     "execution_count": 32,
     "metadata": {},
     "output_type": "execute_result"
    }
   ],
   "source": [
    "unexpectedly.similarity(intermittent)"
   ]
  },
  {
   "cell_type": "code",
   "execution_count": 33,
   "id": "93c391bd-b248-49ce-9342-fdbcdd9be447",
   "metadata": {},
   "outputs": [
    {
     "data": {
      "text/plain": [
       "0.8906676551229783"
      ]
     },
     "execution_count": 33,
     "metadata": {},
     "output_type": "execute_result"
    }
   ],
   "source": [
    "unexpectedly.similarity(surprisingly)"
   ]
  },
  {
   "cell_type": "markdown",
   "id": "09c2da66-641f-4cc4-8dc0-fa85615412b5",
   "metadata": {},
   "source": [
    "The cosine similarity shows that 'surprisingly' is much more similar to 'unexpectedly' than 'intermittent' is."
   ]
  },
  {
   "cell_type": "markdown",
   "id": "2ebaa91b-d501-40f0-8057-867b5c48f37d",
   "metadata": {},
   "source": [
    "#### Document embeddings\n",
    "\n",
    "We can measure similarity with document-level vectors, which spaCy provides through Doc objects. The values in a Doc vector are an average of the vectors for each token in that document."
   ]
  },
  {
   "cell_type": "code",
   "execution_count": 34,
   "id": "4821bf98-7cf5-4660-aa74-ed07971e1b31",
   "metadata": {},
   "outputs": [
    {
     "data": {
      "text/plain": [
       "array([-0.345924  , -0.38296276, -0.11615409, -0.24399236, -0.04707781,\n",
       "        0.1848155 ,  0.35787773, -0.03967064,  0.26513293,  0.03438464,\n",
       "        0.3388386 ,  0.05483507, -0.21400733,  0.19317377, -0.12437943,\n",
       "       -0.08537383, -0.0163213 , -0.04032171,  0.09686897,  0.01143202,\n",
       "       -0.13232793,  0.20896903,  0.08137819, -0.26028928,  0.27910882,\n",
       "        0.21630871,  0.22284544,  0.2842081 ,  0.0149836 ,  0.22117846,\n",
       "        0.17188542, -0.01495515,  0.5591556 , -0.35058782,  0.08542412,\n",
       "        0.29157367,  0.07595362, -0.20705226, -0.07837567,  0.19844861,\n",
       "        0.02289027,  0.29045033, -0.02778572, -0.15959685,  0.16310509,\n",
       "       -0.3789265 , -0.14380701,  0.36538976,  0.24797802, -0.16165775,\n",
       "       -0.08779511,  0.08664092, -0.15748355, -0.13478872,  0.21531922,\n",
       "       -0.08226354, -0.05558764, -0.05496515,  0.04246097, -0.04665216,\n",
       "        0.23162736, -0.07781044,  0.11183633,  0.3285311 ,  0.21637182,\n",
       "       -0.0811092 , -0.08850811, -0.3651212 ,  0.08333947,  0.17447071,\n",
       "       -0.09386054,  0.02904926, -0.21790615,  0.04973914,  0.28142172,\n",
       "       -0.15042843, -0.08117366, -0.14639133,  0.01082617, -0.06150726,\n",
       "       -0.28417274, -0.2704449 , -0.28930834, -0.1167931 ,  0.11058593,\n",
       "        0.33395082,  0.1202768 , -0.0313974 , -0.06284522,  0.49168685,\n",
       "       -0.07682501,  0.11070064,  0.05310405,  0.20794468, -0.37020612,\n",
       "        0.01895316], dtype=float32)"
      ]
     },
     "execution_count": 34,
     "metadata": {},
     "output_type": "execute_result"
    }
   ],
   "source": [
    "ticket_doc.vector"
   ]
  },
  {
   "cell_type": "markdown",
   "id": "ced39484-acc9-4e58-8179-62048e3a7d99",
   "metadata": {},
   "source": [
    "Let's compare some tickets."
   ]
  },
  {
   "cell_type": "code",
   "execution_count": 35,
   "id": "8d7ee1a4-0564-4e55-b01f-e8ea8ee2a9c2",
   "metadata": {},
   "outputs": [],
   "source": [
    "ticket2 = nlp(tickets_corpus[2]) # another ticket\n",
    "ticket668 = nlp(tickets_corpus[668]) # we saw this one was similar earlier"
   ]
  },
  {
   "cell_type": "code",
   "execution_count": 36,
   "id": "2d45e9cc-67a7-4cd8-8323-03a55eebef8a",
   "metadata": {},
   "outputs": [
    {
     "name": "stdout",
     "output_type": "stream",
     "text": [
      "I'm facing a problem with my {product_purchased}. The {product_purchased} is not turning on. It was working fine until yesterday, but now it doesn't respond.\n",
      "\n",
      "1.8.3 I really I'm using the original charger that came with my {product_purchased}, but it's not charging properly.\n"
     ]
    }
   ],
   "source": [
    "print(ticket2.text)"
   ]
  },
  {
   "cell_type": "code",
   "execution_count": 37,
   "id": "ba527271-f908-41c8-9973-2edd7a392a26",
   "metadata": {},
   "outputs": [
    {
     "data": {
      "text/plain": [
       "0.7271517871097166"
      ]
     },
     "execution_count": 37,
     "metadata": {},
     "output_type": "execute_result"
    }
   ],
   "source": [
    "ticket_doc.similarity(ticket2)"
   ]
  },
  {
   "cell_type": "code",
   "execution_count": 38,
   "id": "c8451c6e-01e4-4936-a5cf-1d203bb91314",
   "metadata": {},
   "outputs": [
    {
     "name": "stdout",
     "output_type": "stream",
     "text": [
      "I'm having an issue with the {product_purchased}. Please assist.\n",
      "\n",
      "\n",
      "I'm having an issue with the {product_purchased}. Please assist. The issue I'm facing is intermittent. Sometimes it works fine, but other times it acts up unexpectedly.\n"
     ]
    }
   ],
   "source": [
    "print(ticket668.text)"
   ]
  },
  {
   "cell_type": "code",
   "execution_count": 39,
   "id": "7202ad22-0fb6-4ae5-a8a4-738d71c7d2e0",
   "metadata": {},
   "outputs": [
    {
     "data": {
      "text/plain": [
       "0.9594867859745191"
      ]
     },
     "execution_count": 39,
     "metadata": {},
     "output_type": "execute_result"
    }
   ],
   "source": [
    "ticket_doc.similarity(ticket668)"
   ]
  }
 ],
 "metadata": {
  "kernelspec": {
   "display_name": "Python 3 (ipykernel)",
   "language": "python",
   "name": "python3"
  },
  "language_info": {
   "codemirror_mode": {
    "name": "ipython",
    "version": 3
   },
   "file_extension": ".py",
   "mimetype": "text/x-python",
   "name": "python",
   "nbconvert_exporter": "python",
   "pygments_lexer": "ipython3",
   "version": "3.8.18"
  }
 },
 "nbformat": 4,
 "nbformat_minor": 5
}
